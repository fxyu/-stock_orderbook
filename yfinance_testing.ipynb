{
 "metadata": {
  "language_info": {
   "codemirror_mode": {
    "name": "ipython",
    "version": 3
   },
   "file_extension": ".py",
   "mimetype": "text/x-python",
   "name": "python",
   "nbconvert_exporter": "python",
   "pygments_lexer": "ipython3",
   "version": "3.8.6-final"
  },
  "orig_nbformat": 2,
  "kernelspec": {
   "name": "python3",
   "display_name": "Python 3.8.6 64-bit ('qfin': conda)",
   "metadata": {
    "interpreter": {
     "hash": "d22f1f7c152e090dcaca357c90dcead4a10ae660817392a75ed51c1d2fca4f9c"
    }
   }
  }
 },
 "nbformat": 4,
 "nbformat_minor": 2,
 "cells": [
  {
   "cell_type": "code",
   "execution_count": 55,
   "metadata": {},
   "outputs": [],
   "source": [
    "import yfinance as yf\n",
    "import numpy as np\n",
    "from datetime import datetime, tzinfo\n",
    "import pytz"
   ]
  },
  {
   "source": [
    "### Download YM Main Data from yahoo finance\n",
    "Only the last 7d with interval=1m is available in the yahoo finance."
   ],
   "cell_type": "markdown",
   "metadata": {}
  },
  {
   "cell_type": "code",
   "execution_count": 12,
   "metadata": {},
   "outputs": [
    {
     "output_type": "stream",
     "name": "stdout",
     "text": [
      "[*********************100%***********************]  1 of 1 completed\n"
     ]
    }
   ],
   "source": [
    "data = yf.download(tickers = \"YM=F\", period = \"7d\", interval = \"1m\",\n",
    "        group_by = 'ticker', auto_adjust = True, prepost = True,\n",
    "        threads = True, proxy = None)\n"
   ]
  },
  {
   "cell_type": "code",
   "execution_count": 19,
   "metadata": {},
   "outputs": [
    {
     "output_type": "stream",
     "name": "stdout",
     "text": [
      "The length of the data frame : 6138 \n\n                              Open     High      Low    Close  Volume\nDatetime                                                             \n2020-11-20 00:00:00-05:00  29263.0  29265.0  29259.0  29259.0       0\n2020-11-20 00:01:00-05:00  29263.0  29265.0  29261.0  29263.0      34\n2020-11-20 00:02:00-05:00  29261.0  29263.0  29260.0  29261.0      24\n"
     ]
    }
   ],
   "source": [
    "print(f'The length of the data frame : {len(data)} \\n')\n",
    "print(data.head(3))"
   ]
  },
  {
   "cell_type": "code",
   "execution_count": 24,
   "metadata": {},
   "outputs": [
    {
     "output_type": "execute_result",
     "data": {
      "text/plain": [
       "Index(['Open', 'High', 'Low', 'Close', 'Volume'], dtype='object')"
      ]
     },
     "metadata": {},
     "execution_count": 24
    }
   ],
   "source": [
    "dir(data.iloc[0])\n",
    "data.iloc[0].index"
   ]
  },
  {
   "cell_type": "code",
   "execution_count": 27,
   "metadata": {},
   "outputs": [
    {
     "output_type": "stream",
     "name": "stdout",
     "text": [
      "                   Datetime     Open     High      Low    Close  Volume\n0 2020-11-20 00:00:00-05:00  29263.0  29265.0  29259.0  29259.0       0\n1 2020-11-20 00:01:00-05:00  29263.0  29265.0  29261.0  29263.0      34\n2 2020-11-20 00:02:00-05:00  29261.0  29263.0  29260.0  29261.0      24\n"
     ]
    }
   ],
   "source": [
    "df = data.reset_index()\n",
    "print(df.head(3))"
   ]
  },
  {
   "cell_type": "code",
   "execution_count": 54,
   "metadata": {},
   "outputs": [
    {
     "output_type": "stream",
     "name": "stdout",
     "text": [
      "<class 'pandas._libs.tslibs.timestamps.Timestamp'>\n2020-11-20 00:00:00-05:00\nAmerica/New_York\n<class 'pytz.tzfile.America/New_York'>\n"
     ]
    }
   ],
   "source": [
    "print(type(df.iloc[0]['Datetime']))\n",
    "print(df.iloc[0]['Datetime'])\n",
    "\n",
    "pyDateTime = df.iloc[0]['Datetime'].to_pydatetime()\n",
    "print(pyDateTime.tzinfo)\n",
    "print(type(pyDateTime.tzinfo))\n",
    "\n"
   ]
  },
  {
   "cell_type": "code",
   "execution_count": 45,
   "metadata": {},
   "outputs": [],
   "source": [
    "df['PyDatetime'] = df.apply(lambda row: row.Datetime.to_pydatetime(), axis=1)"
   ]
  },
  {
   "cell_type": "code",
   "execution_count": 53,
   "metadata": {},
   "outputs": [
    {
     "output_type": "error",
     "ename": "TypeError",
     "evalue": "descriptor 'dst' of 'datetime.tzinfo' object needs an argument",
     "traceback": [
      "\u001b[1;31m---------------------------------------------------------------------------\u001b[0m",
      "\u001b[1;31mTypeError\u001b[0m                                 Traceback (most recent call last)",
      "\u001b[1;32m<ipython-input-53-4167f6027a84>\u001b[0m in \u001b[0;36m<module>\u001b[1;34m\u001b[0m\n\u001b[1;32m----> 1\u001b[1;33m \u001b[0mtzinfo\u001b[0m\u001b[1;33m.\u001b[0m\u001b[0mdst\u001b[0m\u001b[1;33m(\u001b[0m\u001b[1;33m)\u001b[0m\u001b[1;33m\u001b[0m\u001b[1;33m\u001b[0m\u001b[0m\n\u001b[0m",
      "\u001b[1;31mTypeError\u001b[0m: descriptor 'dst' of 'datetime.tzinfo' object needs an argument"
     ]
    }
   ],
   "source": [
    "tzinfo.dst()"
   ]
  },
  {
   "cell_type": "code",
   "execution_count": 49,
   "metadata": {},
   "outputs": [
    {
     "output_type": "stream",
     "name": "stdout",
     "text": [
      "2020-11-20 00:03:00\n"
     ]
    }
   ],
   "source": [
    "usTimezone = pytz.timezone('America/New_York')\n",
    "thershold = datetime(2020, 11, 20, minute=3).replace(tzinfo=usTimezone)\n",
    "print(thershold)\n",
    "# df[df['PyDatetime'] < ]"
   ]
  }
 ]
}